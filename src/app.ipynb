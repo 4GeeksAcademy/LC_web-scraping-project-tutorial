{
 "cells": [
  {
   "cell_type": "code",
   "execution_count": 39,
   "id": "3a3f3959",
   "metadata": {},
   "outputs": [],
   "source": [
    "import os\n",
    "from bs4 import BeautifulSoup\n",
    "import requests\n",
    "import time\n",
    "import sqlite3\n",
    "import matplotlib.pyplot as plt\n",
    "import seaborn as sns\n",
    "from tqdm import tqdm\n",
    "import pandas as pd"
   ]
  },
  {
   "cell_type": "code",
   "execution_count": 40,
   "id": "ab9204e6",
   "metadata": {
    "lines_to_next_cell": 2
   },
   "outputs": [],
   "source": [
    "# Paso 2: Descargar HTML\n",
    "# Seleccionar el recurso a descargar\n",
    "resource_url =  \"https://companies-market-cap-copy.vercel.app/index.html\""
   ]
  },
  {
   "cell_type": "code",
   "execution_count": 41,
   "id": "4a622601",
   "metadata": {},
   "outputs": [],
   "source": [
    "# Petición para descargar el fichero de Internet\n",
    "response = requests.get(resource_url)\n",
    "#print( response.status_code)"
   ]
  },
  {
   "cell_type": "code",
   "execution_count": 42,
   "id": "f93eb56e",
   "metadata": {},
   "outputs": [],
   "source": [
    "html_content = response.text  # convertir a texto"
   ]
  },
  {
   "cell_type": "code",
   "execution_count": 43,
   "id": "cbecec2f",
   "metadata": {},
   "outputs": [
    {
     "data": {
      "text/plain": [
       "\n",
       "<!DOCTYPE html>\n",
       "\n",
       "<html lang=\"en-US\">\n",
       "<head>\n",
       "<title>Tesla (TSLA) - Revenue</title>\n",
       "<meta charset=\"utf-8\"/>\n",
       "<link href=\"https://companiesmarketcap.com/favicon.ico\" rel=\"shortcut icon\" type=\"image/x-icon\"/>\n",
       "<link href=\"/img/icons/apple-icon-57x57.png\" rel=\"apple-touch-icon\" sizes=\"57x57\"/>\n",
       "<link href=\"/img/icons/apple-icon-60x60.png\" rel=\"apple-touch-icon\" sizes=\"60x60\"/>\n",
       "<link href=\"/img/icons/apple-icon-72x72.png\" rel=\"apple-touch-icon\" sizes=\"72x72\"/>\n",
       "<link href=\"/img/icons/apple-icon-76x76.png\" rel=\"apple-touch-icon\" sizes=\"76x76\"/>\n",
       "<link href=\"/img/icons/apple-icon-114x114.png\" rel=\"apple-touch-icon\" sizes=\"114x114\"/>\n",
       "<link href=\"/img/icons/apple-icon-120x120.png\" rel=\"apple-touch-icon\" sizes=\"120x120\"/>\n",
       "<link href=\"/img/icons/apple-icon-144x144.png\" rel=\"apple-touch-icon\" sizes=\"144x144\"/>\n",
       "<link href=\"/img/icons/apple-icon-152x152.png\" rel=\"apple-touch-icon\" sizes=\"152x152\"/>\n",
       "<link href=\"/img/icons/apple-icon-180x180.png\" rel=\"apple-touch-icon\" sizes=\"180x180\"/>\n",
       "<link href=\"/img/icons/android-icon-192x192.png\" rel=\"icon\" sizes=\"192x192\" type=\"image/png\"/>\n",
       "<link href=\"/img/icons/favicon-32x32.png\" rel=\"icon\" sizes=\"32x32\" type=\"image/png\"/>\n",
       "<link href=\"/img/icons/favicon-96x96.png\" rel=\"icon\" sizes=\"96x96\" type=\"image/png\"/>\n",
       "<link href=\"/img/icons/favicon-16x16.png\" rel=\"icon\" sizes=\"16x16\" type=\"image/png\"/>\n",
       "<link href=\"/img/icons/manifest.json\" rel=\"manifest\"/>\n",
       "<link href=\"https://companiesmarketcap.com/de/tesla/umsatz/\" hreflang=\"de\" rel=\"alternate\">\n",
       "<link href=\"https://companiesmarketcap.com/fr/tesla/revenu/\" hreflang=\"fr\" rel=\"alternate\">\n",
       "<link href=\"https://companiesmarketcap.com/tesla/revenue/\" hreflang=\"en-US\" rel=\"alternate\">\n",
       "<link href=\"https://companiesmarketcap.com/eur/tesla/revenue/\" hreflang=\"en-IE\" rel=\"alternate\">\n",
       "<link href=\"https://companiesmarketcap.com/inr/tesla/revenue/\" hreflang=\"en-IN\" rel=\"alternate\">\n",
       "<link href=\"https://companiesmarketcap.com/gbp/tesla/revenue/\" hreflang=\"en-GB\" rel=\"alternate\">\n",
       "<link href=\"https://companiesmarketcap.com/cad/tesla/revenue/\" hreflang=\"en-CA\" rel=\"alternate\">\n",
       "<link href=\"https://companiesmarketcap.com/aud/tesla/revenue/\" hreflang=\"en-AU\" rel=\"alternate\">\n",
       "<link href=\"https://companiesmarketcap.com/nzd/tesla/revenue/\" hreflang=\"en-NZ\" rel=\"alternate\">\n",
       "<link href=\"https://companiesmarketcap.com/hkd/tesla/revenue/\" hreflang=\"en-HK\" rel=\"alternate\">\n",
       "<link href=\"https://companiesmarketcap.com/sgd/tesla/revenue/\" hreflang=\"en-SG\" rel=\"alternate\">\n",
       "<link href=\"https://companiesmarketcap.com/tesla/revenue/\" rel=\"canonical\">\n",
       "<link crossorigin=\"anonymous\" href=\"https://cdnjs.cloudflare.com/ajax/libs/font-awesome/6.7.2/css/all.min.css\" integrity=\"sha512-Evv84Mr4kqVGRNSgIGL/F/aIDqQb7xQ2vcrdIwxfjThSH8CSR7PBEakCr51Ck+w+/U6swU2Im1vVX0SVk9ABhg==\" referrerpolicy=\"no-referrer\" rel=\"stylesheet\">\n",
       "<meta content=\"https://companiesmarketcap.com/tesla/revenue/\" property=\"og:url\"/>\n",
       "<meta content=\"INDEX,FOLLOW\" name=\"robots\"/>\n",
       "<meta content=\"#ffffff\" name=\"msapplication-TileColor\"/>\n",
       "<meta content=\"/img/icons/ms-icon-144x144.png\" name=\"msapplication-TileImage\"/>\n",
       "<meta content=\"#ffffff\" name=\"theme-color\"/>\n",
       "<meta content=\"width=device-width, initial-scale=1.0\" name=\"viewport\"/>\n",
       "<meta content=\"en-US\" http-equiv=\"content-language\"/>\n",
       "<meta content=\"Tesla (TSLA) - Revenue\" property=\"og:title\"/>\n",
       "<meta content=\"website\" property=\"og:type\">\n",
       "<meta content=\"Current and historical revenue charts for Tesla. As of January 2025 Tesla's TTM revenue is of $97.15 Billion USD\" property=\"og:description\"/>\n",
       "<meta content=\"https://companiesmarketcap.com/logo.png\" property=\"og:image\"/>\n",
       "<meta content=\"Current and historical revenue charts for Tesla. As of January 2025 Tesla's TTM revenue is of $97.15 Billion USD\" name=\"description\"/>\n",
       "<link href=\"./r-bt-replacement.css\" rel=\"stylesheet\" type=\"text/css\"/>\n",
       "<link href=\"./r-style.css\" rel=\"stylesheet\" type=\"text/css\"/>\n",
       "<script>\n",
       "current_locale = \"usd\";\n",
       "current_locale_path = \"\";\n",
       "\n",
       "current_marketcap_path = \"marketcap\";\n",
       "</script>\n",
       "<script async=\"\" src=\"https://cdn.fuseplatform.net/publift/tags/2/3432/fuse.js\"></script></meta></link></link></link></link></link></link></link></link></link></link></link></link></link></head>\n",
       "<body class=\"cmkt\" id=\"cmkt\">\n",
       "<div class=\"row site-header-row\">\n",
       "<div class=\"site-header\">\n",
       "<span style=\"display: inline-flex; margin-top: 2px;\">\n",
       "<span class=\"max-width-720px-hidden\">\n",
       "                        Companies: <span class=\"font-weight-bold\">10,443</span>    \n",
       "                        total market cap: <span class=\"font-weight-bold\">$110.913 T</span>\n",
       "</span>\n",
       "</span>\n",
       "</div>\n",
       "</div>\n",
       "<nav class=\"navbar nav-bar-companiesmarketcap navbar-expand-lg navbar-light\">\n",
       "<div class=\"navbar-collapse-container\">\n",
       "<button aria-controls=\"navbarSupportedContent\" aria-expanded=\"false\" aria-label=\"Toggle navigation\" class=\"navbar-toggler\" data-target=\"#navbarSupportedContent\" data-toggle=\"collapse\" type=\"button\">\n",
       "<span class=\"navbar-toggler-icon\"></span>\n",
       "</button>\n",
       "<form class=\"search-form form-inline\">\n",
       "<input aria-label=\"Company name, ticker...\" autocomplete=\"off\" class=\"form-control search-input\" id=\"search-input\" placeholder=\"Company name, ticker...\" type=\"search\"/>\n",
       "<button class=\"btn-search\" disabled=\"\" onclick=\"return false;\" type=\"submit\"><svg height=\"18\" viewbox=\"0 0 14 14\" width=\"18\" xmlns=\"http://www.w3.org/2000/svg\"><g fill=\"none\" stroke=\"#6c6c6c\" stroke-width=\"2\"><path d=\"M11.29 11.71l-4-4\"></path><circle cx=\"5\" cy=\"5\" r=\"4\"></circle></g></svg></button>\n",
       "<div class=\"typeahead-search-results\" id=\"typeahead-search-results\"></div>\n",
       "</form>\n",
       "<div class=\"collapse navbar-collapse\" id=\"navbarSupportedContent\">\n",
       "<a class=\"responsive-hidden\" href=\"/\" style=\"pointer-events: none\" title=\"CompaniesMarketCap.com - companies ranked by market capitalization\">\n",
       "<div class=\"companiesmarketcap-logo\"></div>\n",
       "</a>\n",
       "<ul class=\"navbar-nav\">\n",
       "<li class=\"nav-item\">\n",
       "<a class=\"nav-link nav-link-companiesmarketcap\" href=\"/\" style=\"pointer-events: none\">Global ranking</a>\n",
       "</li>\n",
       "<li class=\"nav-item dropdown megamenu-li\">\n",
       "<a aria-expanded=\"false\" aria-haspopup=\"true\" class=\"nav-link nav-link-companiesmarketcap dropdown-toggle\" data-toggle=\"dropdown\" href=\"#\" id=\"dropdown-countries\" style=\"pointer-events: none\">Ranking by countries</a>\n",
       "</li></ul></div>\n",
       "\n",
       "<li class=\"nav-item dropdown megamenu-li max-width-650px-shown\">\n",
       "<a class=\"nav-link nav-link-companiesmarketcap\" href=\"/watchlist/\" style=\"pointer-events: none;\"><img alt=\"favorite icon\" class=\"fav-icon dark-shown\" src=\"/img/fav.svg?v=3\"/><img alt=\"favorite icon\" class=\"fav-icon dark-hidden\" src=\"/img/fav4.svg?v=3\"/> Watchlist</a>\n",
       "<a class=\"nav-link nav-link-companiesmarketcap\" href=\"/account/\" style=\"pointer-events: none;\"><img alt=\"favorite icon\" class=\"account-icon dark-shown\" src=\"/img/account.svg?v=3\"/><img alt=\"favorite icon\" class=\"account-icon dark-hidden\" src=\"/img/account4.svg?v=3\"/> Account</a>\n",
       "\n",
       " </li></div>\n",
       "\n",
       "</nav>\n",
       "<div style=\"background-color: #e98383; padding: 20px; border: 1px solid #ccc; font-family: Arial, sans-serif; font-size: 14px; color: #333;\">\n",
       "<strong>Descargo de Responsabilidad</strong><br/>\n",
       "  Esta página ha sido copiada de <a href=\"https://companiesmarketcap.com/tesla/revenue\" style=\"color: #0066cc; text-decoration: none;\" target=\"_blank\">\"Companies Market Cap\"</a> con fines educativos. Todos los derechos de autor y otros derechos relacionados con el contenido original pertenecen a sus respectivos autores. Esta copia se ha realizado únicamente para fines de aprendizaje. Si eres el propietario del contenido y deseas que se retire, por favor contáctanos.\n",
       "</div>\n",
       "<div align=\"center\">\n",
       "<div style=\"min-height:90px;\"><div data-fuse=\"23022329499\"></div> <div class=\"recoverub-container hidden\"></div> </div></div>\n",
       "<div class=\"table-container\">\n",
       "<div class=\"row\">\n",
       "<div class=\"col-lg-2\">\n",
       "<div class=\"company-logo-container\">\n",
       "<img alt=\"Tesla Logo\" class=\"company-profile-logo\" data-img-dark-path=\"./assets/img/teslalogo.png\" data-img-path=\"./assets/img/pngegg.png\" loading=\"lazy\" src=\"https://pngimg.com/uploads/tesla_logo/tesla_logo_PNG14.png\" title=\"Tesla Logo\"/> </div>\n",
       "<div class=\"company-title-container\">\n",
       "<div class=\"company-code\">TSLA</div>\n",
       "</div>\n",
       "</div>\n",
       "<div class=\"col-lg-6\">\n",
       "<div class=\"row\">\n",
       "<div class=\"info-box\"><div class=\"line1\">#8</div><div class=\"line2\">Rank</div></div>\n",
       "<div class=\"info-box\"><div class=\"line1\">$1.294 T</div><div class=\"line2\">Marketcap</div></div>\n",
       "<div class=\"info-box\"><div class=\"line1\"><a href=\"/usa/largest-companies-in-the-usa-by-market-cap/\"><span class=\"responsive-hidden\"> United States</span></a></div><div class=\"line2\">Country</div></div>\n",
       "</div>\n",
       "<div class=\"row\">\n",
       "<div class=\"info-box\"><div class=\"line1\">$403.31</div><div class=\"line2\">Share price</div></div>\n",
       "<div class=\"info-box\"><div class=\"line1\"><span class=\"percentage-green\">2.17%</span></div><div class=\"line2\">Change (1 day)</div></div>\n",
       "<div class=\"info-box\"><div class=\"line1\"><span class=\"percentage-green\">83.40%</span></div><div class=\"line2\">Change (1 year)</div></div>\n",
       "</div>\n",
       "<div class=\"info-box categories-box\">\n",
       "<div class=\"line1\">\n",
       "<a class=\"badge badge-light category-badge\" href=\"/automakers/largest-automakers-by-market-cap/\" style=\"pointer-events: none\">🚗 Automakers</a><a class=\"badge badge-light category-badge\" href=\"/tech/largest-tech-companies-by-market-cap/\" style=\"pointer-events: none\">👩‍💻 Tech</a><a class=\"badge badge-light category-badge\" href=\"/electric-vehicles/largest-ev-companies-by-market-cap/\" style=\"pointer-events: none\">🔋 Electric Vehicles</a><a class=\"badge badge-light category-badge\" href=\"/bitcoin/largest-companies-by-market-cap/\" style=\"pointer-events: none\"> ₿ Bitcoin</a><a class=\"badge badge-light category-badge\" href=\"/manufacturing/largest-manufacturing-companies-by-market-cap/\" style=\"pointer-events: none\"> 🏭 Manufacturing</a><a class=\"badge badge-light category-badge\" href=\"/ev-charging/largest-ev-charging-companies-by-market-cap/\" style=\"pointer-events: none\">🔌​ EV charging</a><a class=\"badge badge-light category-badge\" href=\"/autonomous-driving/largest-autonomous-driving-companies-by-market-cap/\" style=\"pointer-events: none\">🤖 Autonomous driving</a><a class=\"badge badge-light category-badge\" href=\"/artificial-intelligence/largest-ai-companies-by-marketcap/\" style=\"pointer-events: none\">🦾 AI</a></div>\n",
       "<div class=\"line2\">Categories</div>\n",
       "</div>\n",
       "</div>\n",
       "<div class=\"col-lg-4 company-description\">\n",
       "<p>Tesla, Inc. is an American company that manufactures and sells electric cars, as well as power storage and photovoltaic systems. The company's goal is to “accelerate the transition to sustainable energy”. The company name is based on the physicist and inventor Nikola Tesla.</p> </div>\n",
       "</div>\n",
       "<ul class=\"profile-nav nav nav-tabs mt-4\">\n",
       "<li class=\"nav-item\"> <a class=\"nav-link\" href=\"/tesla/marketcap/\" style=\"pointer-events: none\">Market cap</a> </li> <li class=\"nav-item\"> <a class=\"nav-link active\" href=\"/tesla/revenue/\">Revenue</a> </li> <li class=\"nav-item\"> <a class=\"nav-link\" href=\"earnings.html\">Earnings</a> </li> <li class=\"nav-item\"> <a class=\"nav-link tab-medium-hide\" href=\"/tesla/stock-price-history/\" style=\"pointer-events: none\">Price history</a> </li> <li class=\"nav-item\"> <a class=\"nav-link tab-medium-hide\" href=\"/tesla/pe-ratio/\" style=\"pointer-events: none\">P/E ratio</a> </li> <li class=\"nav-item\"> <a class=\"nav-link tab-medium-hide\" href=\"/tesla/ps-ratio/\" style=\"pointer-events: none\">P/S ratio</a> </li> <li class=\"nav-item dropdown position-relative\">\n",
       "<a aria-expanded=\"false\" aria-haspopup=\"true\" class=\"nav-link dropdown-toggle\" data-toggle=\"dropdown\" href=\"#\" role=\"button\" style=\"pointer-events: none\">More</a>\n",
       "<div class=\"dropdown-menu profile-dropdown\">\n",
       "<a class=\"dropdown-item tab-medium-show\" href=\"/tesla/stock-price-history/\">Price history</a>\n",
       "<a class=\"dropdown-item tab-medium-show\" href=\"/tesla/pe-ratio/\" style=\"pointer-events: none\">P/E ratio</a>\n",
       "<a class=\"dropdown-item tab-medium-show\" href=\"/tesla/ps-ratio/\" style=\"pointer-events: none\">P/S ratio</a>\n",
       "<a class=\"dropdown-item\" href=\"/tesla/pb-ratio/\" style=\"pointer-events: none\">P/B ratio</a>\n",
       "<a class=\"dropdown-item\" href=\"/tesla/operating-margin/\" style=\"pointer-events: none\">Operating margin</a>\n",
       "<a class=\"dropdown-item\" href=\"/tesla/eps/\" style=\"pointer-events: none\">EPS</a>\n",
       "<a class=\"dropdown-item\" href=\"/tesla/stock-splits/\" style=\"pointer-events: none\">Stock Splits</a>\n",
       "<a class=\"dropdown-item\" href=\"/tesla/shares-outstanding/\" style=\"pointer-events: none\">Shares outstanding</a>\n",
       "<a class=\"dropdown-item\" href=\"/tesla/failure-to-deliver/\" style=\"pointer-events: none\">Fails to deliver</a>\n",
       "<a class=\"dropdown-item\" href=\"/tesla/cost-to-borrow/\" style=\"pointer-events: none\">Cost to borrow</a>\n",
       "<a class=\"dropdown-item\" href=\"/tesla/total-assets/\" style=\"pointer-events: none\">Total assets</a>\n",
       "<a class=\"dropdown-item\" href=\"/tesla/total-liabilities/\" style=\"pointer-events: none\">Total liabilities</a>\n",
       "<a class=\"dropdown-item\" href=\"/tesla/total-debt/\" style=\"pointer-events: none\">Total debt</a>\n",
       "<a class=\"dropdown-item\" href=\"/tesla/cash-on-hand/\" style=\"pointer-events: none\">Cash on Hand</a>\n",
       "<a class=\"dropdown-item\" href=\"/tesla/net-assets/\" style=\"pointer-events: none\">Net Assets</a> </div>\n",
       "</li>\n",
       "</ul>\n",
       "<div class=\"profile-container pt-3\">\n",
       "<h1>Revenue for Tesla (TSLA)</h1>\n",
       "<h2><strong>Revenue in 2024 (TTM): <span class=\"background-ya\">$97.15 Billion USD</span></strong></h2>\n",
       "<p class=\"mt-2\">\n",
       "According to <strong>Tesla</strong>'s latest financial reports the company's current revenue (TTM <img class=\"in-text-tooltip ttm-dates-info-icon info-icon tooltip-title responsive-hidden\" src=\"/img/info-icon-grey.svg\" tooltip-title=\"2 Oct 2023 - 30 Sep 2024\"/>) is <strong>$97.15 Billion USD</strong>. In 2023 the company made a revenue of <strong>$96.77 Billion USD</strong> an increase over the revenue in the year 2022 that were of <strong>$81.46 Billion USD</strong>. The revenue is the total amount of income that a company generates by the sale of goods or services. Unlike with the <a href=\"earnings.html\">earnings</a> no expenses are subtracted. \t</p>\n",
       "<div align=\"center\" style=\"margin-bottom: 10px;margin-top: 10px;\"><!-- GAM 71161633/JWSRV_companiesmarketcap/comp_incontent_1 -->\n",
       "</div>\n",
       "<h3>Annual revenue</h3>\n",
       "<div style=\"overflow-y: scroll;\">\n",
       "<table class=\"table\" style=\"width:100%\">\n",
       "<thead>\n",
       "<tr>\n",
       "<th>Year</th>\n",
       "<th>Revenue</th>\n",
       "<th>Change</th>\n",
       "</tr>\n",
       "</thead>\n",
       "<tbody>\n",
       "<tr><td><span class=\"year\">2024</span></td><td>$97.15 B</td><td class=\"percentage-green\">0.39%</td></tr><tr><td><span class=\"year\">2023</span> </td><td>$96.77 B</td><td class=\"percentage-green\">18.8%</td></tr><tr><td><span class=\"year\">2022</span></td><td>$81.46 B</td><td class=\"percentage-green\">51.35%</td></tr><tr><td><span class=\"year\">2021</span></td><td>$53.82 B</td><td class=\"percentage-green\">70.67%</td></tr><tr><td><span class=\"year\">2020</span></td><td>$31.53 B</td><td class=\"percentage-green\">28.31%</td></tr><tr><td><span class=\"year\">2019</span></td><td>$24.57 B</td><td class=\"percentage-green\">14.52%</td></tr><tr><td><span class=\"year\">2018</span></td><td>$21.46 B</td><td class=\"percentage-green\">82.51%</td></tr><tr><td><span class=\"year\">2017</span></td><td>$11.75 B</td><td class=\"percentage-green\">67.98%</td></tr><tr><td><span class=\"year\">2016</span></td><td>$7.00 B</td><td class=\"percentage-green\">73.01%</td></tr><tr><td><span class=\"year\">2015</span></td><td>$4.04 B</td><td class=\"percentage-green\">26.5%</td></tr><tr><td><span class=\"year\">2014</span></td><td>$3.19 B</td><td class=\"percentage-green\">58.85%</td></tr><tr><td><span class=\"year\">2013</span></td><td>$2.01 B</td><td class=\"percentage-green\">387.23%</td></tr><tr><td><span class=\"year\">2012</span></td><td>$0.41 B</td><td class=\"percentage-green\">102.34%</td></tr><tr><td><span class=\"year\">2011</span></td><td>$0.20 B</td><td class=\"percentage-green\">74.95%</td></tr><tr><td><span class=\"year\">2010</span></td><td>$0.11 B</td><td class=\"percentage-green\">4.29%</td></tr><tr><td><span class=\"year\">2009</span> </td><td>$0.11 B</td><td></td></tr> </tbody>\n",
       "</table>\n",
       "</div>\n",
       "<div align=\"center\" style=\"margin-bottom: 10px;margin-top: 10px;\"><!-- GAM 71161633/JWSRV_companiesmarketcap/comp_incontent_1 -->\n",
       "<div data-fuse=\"23022329508\"></div></div><h3>Revenue for similar companies or competitors</h3><div style=\"overflow-y: scroll;\"> <table class=\"table w-100\"> <thead> <tr> <th>Company</th> <th>Revenue</th> <th>Revenue <span class=\"responsive-hidden\">difference</span><span class=\"responsive-shown\">diff.</span></th> <th>Country</th> </tr> </thead> <tbody><tr><td class=\"name-td\"><a href=\"/apple/revenue/\" style=\"pointer-events: none;\"><div class=\"float-left pt-1\"></div><div class=\"name-div\"><div class=\"company-name\">Apple</div><div class=\"company-code\"><span class=\"rank d-none\"></span>AAPL</div></div></a></td></tr></tbody></table></div><td>$391.03 B</td><td><span class=\"percentage-green\"> 302.51%</span></td><td> <span class=\"responsive-hidden\">USA</span></td><tr><td class=\"name-td\"><a href=\"/rivian/revenue/\"><div class=\"float-left pt-1\"> </div><div class=\"name-div\"><div class=\"company-name\">Rivian</div><div class=\"company-code\"><span class=\"rank d-none\"></span>RIVN</div></div></a></td></tr></div><td>$4.55 B</td><td><span class=\"percentage-red\">-95.32%</span></td><td> <span class=\"responsive-hidden\">USA</span></td><tr><td class=\"name-td\"><a href=\"/lucid-motors/revenue/\"><div class=\"float-left pt-1\"></div><div class=\"name-div\"><div class=\"company-name\">Lucid Motors</div><div class=\"company-code\"><span class=\"rank d-none\"></span>LCID</div></div></a></td></tr></div><td>$0.73 B</td><td><span class=\"percentage-red\">-99.25%</span></td><td> <span class=\"responsive-hidden\">USA</span></td><tr><td class=\"name-td\"><a href=\"/nio/revenue/\"><div class=\"float-left pt-1\"></div><div class=\"name-div\"><div class=\"company-name\">NIO</div><div class=\"company-code\"><span class=\"rank d-none\"></span>NIO</div></div></a></td><td>$8.85 B</td><td><span class=\"percentage-red\">-90.88%</span></td><td> <span class=\"responsive-hidden\">China</span></td></tr>  \n",
       "\n",
       "<script src=\"/js/chart1.js?v=37\"></script>\n",
       "<script type=\"text/javascript\">\n",
       "data = {\"2024\":97150000000,\"2023\":96773000000,\"2022\":81462000000,\"2021\":53823000000,\"2020\":31536000000,\"2019\":24578000000,\"2018\":21460855000,\"2017\":11758751000,\"2016\":7000132000,\"2015\":4046025000,\"2014\":3198356000,\"2013\":2013496000,\"2012\":413256000,\"2011\":204242000,\"2010\":116744000,\"2009\":111943000};\n",
       "var chart1 = new CmcChart();\n",
       "chart1.dateFormat = 'y';\n",
       "chart1.currencySymbol = '$';\n",
       "chart1.loadChart(document.getElementById('marketcapchart'), data);\n",
       "</script>\n",
       "\n",
       "<div align=\"center\" style=\"margin-top: 10px;\">\n",
       "<!-- GAM 71161633/JWSRV_companiesmarketcap/home_incontent_4 -->\n",
       "<div data-fuse=\"23022329505\"></div></div>\n",
       "<div class=\"footer-container\">\n",
       "<div class=\"footer-section\">\n",
       "<div class=\"footer row\">\n",
       "<div class=\"col-sm-6\">\n",
       "<h4><a href=\"/lexicon/market-cap-of-a-company/\">What is the market capitalization of a company?</a></h4>\n",
       "<p>The market capitalization sometimes referred as Marketcap, is the value of a publicly listed company. <br>\n",
       "\t\t\t\tIn most cases it can be easily calculated by multiplying the share price with the amount of outstanding shares. </br></p>\n",
       "<h4>DISCLAIMER</h4>\n",
       "<p>\n",
       "                                CompaniesMarketCap is not associated in any way with CoinMarketCap.com<br/>\n",
       "\t\t\t\tStock prices are delayed, the delay can range from a few minutes to several hours. <br/>\n",
       "\t\t\t\tCompany logos are from the <a class=\"text-underline\" href=\"https://companieslogo.com\" style=\"pointer-events: none\">CompaniesLogo.com logo database</a> and belong to their respective copyright holders. Companies Marketcap displays them for editorial purposes only. </p>\n",
       "</div>\n",
       "<div class=\"col-sm-6\">\n",
       "<h4>Contact</h4>\n",
       "                                For inquiries or if you want to report a problem write to <span class=\"contact-email\">hel<span class=\"hidden\">nospam</span>lo@8market<span class=\"hidden\">(nospam)</span>cap.com</span> <br/>\n",
       "<br/>\n",
       "<h4>Links</h4>\n",
       "<p>- <a class=\"text-underline\" href=\"/privacy/\" style=\"pointer-events: none\">Privacy policy</a></p>\n",
       "<p>- <a class=\"text-underline\" href=\"/terms-of-service/\" style=\"pointer-events: none\">Terms and conditions</a></p>\n",
       "<p class=\"social-media-icons\"><a href=\"https://www.facebook.com/CompaniesMarketCap/\" title=\"Companies Market Cap Facebook page\">\n",
       "<svg height=\"20\" viewbox=\"0 0 155 155\" width=\"20\" xmlns=\"http://www.w3.org/2000/svg\">\n",
       "<path d=\"M89.584,155.139V84.378h23.742l3.562-27.585H89.584V39.184 c0-7.984,2.208-13.425,13.67-13.425l14.595-0.006V1.08C115.325,0.752,106.661,0,96.577,0C75.52,0,61.104,12.853,61.104,36.452 v20.341H37.29v27.585h23.814v70.761H89.584z\"></path>\n",
       "</svg></a>\n",
       "<a href=\"https://twitter.com/CompaniesMarke1\" style=\"pointer-events: none\" title=\"Companies Market Cap Twitter account\">\n",
       "<svg height=\"20\" viewbox=\"80 75 250 250\" width=\"20\" xmlns=\"http://www.w3.org/2000/svg\"><rect fill=\"none\" height=\"30\" width=\"30\"></rect><path d=\"M153.62,301.59c94.34,0,145.94-78.16,145.94-145.94,0-2.22,0-4.43-.15-6.63A104.36,104.36,0,0,0,325,122.47a102.38,102.38,0,0,1-29.46,8.07,51.47,51.47,0,0,0,22.55-28.37,102.79,102.79,0,0,1-32.57,12.45,51.34,51.34,0,0,0-87.41,46.78A145.62,145.62,0,0,1,92.4,107.81a51.33,51.33,0,0,0,15.88,68.47A50.91,50.91,0,0,1,85,169.86c0,.21,0,.43,0,.65a51.31,51.31,0,0,0,41.15,50.28,51.21,51.21,0,0,1-23.16.88,51.35,51.35,0,0,0,47.92,35.62,102.92,102.92,0,0,1-63.7,22A104.41,104.41,0,0,1,75,278.55a145.21,145.21,0,0,0,78.62,23\"></path></svg></a>\n",
       "</p>\n",
       "<p>\n",
       "                                © 2024 CompaniesMarketcap.com\n",
       "                                </p>\n",
       "</div>\n",
       "</div>\n",
       "</div>\n",
       "</div>\n",
       "<script src=\"/js/script.js?v=80\"></script>\n",
       "<div class=\"popup-container hidden\" id=\"popup-container\"></div>\n",
       "<script src=\"/js/account.js?v21\"></script><script src=\"/clever_ads.js\"></script>\n",
       "<script>\n",
       "\n",
       "ubRecovered = false;\n",
       "\n",
       "\n",
       "(function detectUB(callback) {\n",
       "  var flaggedURL = 'https://static.getclicky.com/js';\n",
       "\n",
       "        var request = new Request(flaggedURL, {\n",
       "        method: 'GET',\n",
       "        mode: 'no-cors',\n",
       "        });\n",
       "        fetch(request)\n",
       "        .then(function(response) {\n",
       "        if (response.status === 200 ) {\n",
       "                callback(false);\n",
       "        }\n",
       "        })\n",
       "        .catch(function(error) {\n",
       "                callback(true);\n",
       "        });\n",
       "        })(function(usingAdblock) {\n",
       "                if(usingAdblock) {\n",
       "                        ub0802dwds = 2;\n",
       "                        recoveUB();\n",
       "                        console.log('using adblock');\n",
       "                }\n",
       "        })\n",
       "\n",
       "\tfunction ae6dd7anadbac(siteID) {\n",
       "\t\tvar uuid = '';\n",
       "\t\ttry {\n",
       "\t\t\tif(localStorage.getItem(\"UUID-ae6dd7anadbac\") == undefined) {\n",
       "\t\t\t\tlocalStorage.setItem(\"UUID-ae6dd7anadbac\", window.crypto.randomUUID());\n",
       "\t\t\t}\n",
       "\n",
       "\t\t\tuuid = localStorage.getItem(\"UUID-ae6dd7anadbac\");\n",
       "\t\t} catch(error) {}\n",
       "\n",
       "\t\tvar timeOffset = '';\n",
       "\t\ttry {\n",
       "\t\t\ttimeOffset = new Date().getTimezoneOffset()\n",
       "\t\t} catch(error) {}\n",
       "\n",
       "\t\tvar userLang = ''; \n",
       "\t\ttry {\n",
       "\t\t\tuserLang = navigator.language || navigator.userLanguage; \n",
       "\t\t} catch(error) {}\n",
       "\n",
       "\t\tvar payload = {\n",
       "\t\t\t\"siteID\" : siteID,\n",
       "\t\t\t\"uuid\" : uuid,\n",
       "\t\t\t\"referrer\" : document.referrer,\n",
       "\t\t\t\"url\" : window.location.href,\n",
       "\t\t\t\"screen_height\": window.screen.height,\n",
       "\t\t\t\"screen_width\": window.screen.width,\n",
       "\t\t\t\"timeOffset\": timeOffset,\n",
       "\t\t\t\"userLang\": userLang,\n",
       "\t\t\t\"blocker\" : ub0802dwds\n",
       "\t\t};\n",
       "\n",
       "\t\tfetch(\"https://apewisdom.io/c/\", {\n",
       "\t\t\tmethod: \"POST\",\n",
       "\t\t\tbody: JSON.stringify(payload),\n",
       "\t\t\theaders: {\n",
       "\t\t\t\t\"Content-type\": \"application/json; charset=UTF-8\"\n",
       "\t\t\t}\n",
       "\t\t});\n",
       "\t}\n",
       "\n",
       "\tsetTimeout(\"ae6dd7anadbac('CMC')\", 625);\n",
       "</script>\n",
       "<!-- generation time: 0.002126932144165 --></body>\n",
       "</html>"
      ]
     },
     "execution_count": 43,
     "metadata": {},
     "output_type": "execute_result"
    }
   ],
   "source": [
    "soup = BeautifulSoup (html_content, features=\"html.parser\") # PARSER: analizar y convertir datos estructurados (como texto)\n",
    "soup\n",
    "#print(soup)"
   ]
  },
  {
   "cell_type": "code",
   "execution_count": 44,
   "id": "8b29de55",
   "metadata": {
    "lines_to_next_cell": 2
   },
   "outputs": [
    {
     "data": {
      "text/plain": [
       "<table class=\"table\" style=\"width:100%\">\n",
       "<thead>\n",
       "<tr>\n",
       "<th>Year</th>\n",
       "<th>Revenue</th>\n",
       "<th>Change</th>\n",
       "</tr>\n",
       "</thead>\n",
       "<tbody>\n",
       "<tr><td><span class=\"year\">2024</span></td><td>$97.15 B</td><td class=\"percentage-green\">0.39%</td></tr><tr><td><span class=\"year\">2023</span> </td><td>$96.77 B</td><td class=\"percentage-green\">18.8%</td></tr><tr><td><span class=\"year\">2022</span></td><td>$81.46 B</td><td class=\"percentage-green\">51.35%</td></tr><tr><td><span class=\"year\">2021</span></td><td>$53.82 B</td><td class=\"percentage-green\">70.67%</td></tr><tr><td><span class=\"year\">2020</span></td><td>$31.53 B</td><td class=\"percentage-green\">28.31%</td></tr><tr><td><span class=\"year\">2019</span></td><td>$24.57 B</td><td class=\"percentage-green\">14.52%</td></tr><tr><td><span class=\"year\">2018</span></td><td>$21.46 B</td><td class=\"percentage-green\">82.51%</td></tr><tr><td><span class=\"year\">2017</span></td><td>$11.75 B</td><td class=\"percentage-green\">67.98%</td></tr><tr><td><span class=\"year\">2016</span></td><td>$7.00 B</td><td class=\"percentage-green\">73.01%</td></tr><tr><td><span class=\"year\">2015</span></td><td>$4.04 B</td><td class=\"percentage-green\">26.5%</td></tr><tr><td><span class=\"year\">2014</span></td><td>$3.19 B</td><td class=\"percentage-green\">58.85%</td></tr><tr><td><span class=\"year\">2013</span></td><td>$2.01 B</td><td class=\"percentage-green\">387.23%</td></tr><tr><td><span class=\"year\">2012</span></td><td>$0.41 B</td><td class=\"percentage-green\">102.34%</td></tr><tr><td><span class=\"year\">2011</span></td><td>$0.20 B</td><td class=\"percentage-green\">74.95%</td></tr><tr><td><span class=\"year\">2010</span></td><td>$0.11 B</td><td class=\"percentage-green\">4.29%</td></tr><tr><td><span class=\"year\">2009</span> </td><td>$0.11 B</td><td></td></tr> </tbody>\n",
       "</table>"
      ]
     },
     "execution_count": 44,
     "metadata": {},
     "output_type": "execute_result"
    }
   ],
   "source": [
    "#Buscar todas las tablas.\n",
    "table = soup.find(\"table\")  \n",
    "table"
   ]
  },
  {
   "cell_type": "markdown",
   "id": "26947287",
   "metadata": {},
   "source": [
    "# Almacena los datos en un DataFrame."
   ]
  },
  {
   "cell_type": "code",
   "execution_count": 45,
   "id": "49b4dae8",
   "metadata": {},
   "outputs": [
    {
     "name": "stderr",
     "output_type": "stream",
     "text": [
      "100%|██████████| 16/16 [00:00<00:00, 20213.51it/s]\n"
     ]
    },
    {
     "data": {
      "text/plain": [
       "[['2024', '97.15'],\n",
       " ['2023', '96.77'],\n",
       " ['2022', '81.46'],\n",
       " ['2021', '53.82'],\n",
       " ['2020', '31.53'],\n",
       " ['2019', '24.57'],\n",
       " ['2018', '21.46'],\n",
       " ['2017', '11.75'],\n",
       " ['2016', '7.00'],\n",
       " ['2015', '4.04'],\n",
       " ['2014', '3.19'],\n",
       " ['2013', '2.01'],\n",
       " ['2012', '0.41'],\n",
       " ['2011', '0.20'],\n",
       " ['2010', '0.11'],\n",
       " ['2009', '0.11']]"
      ]
     },
     "execution_count": 45,
     "metadata": {},
     "output_type": "execute_result"
    }
   ],
   "source": [
    "\n",
    "database = []                                           \n",
    "for row in tqdm(table.findAll('tr')[1:]):  #tqdm, sigue el avance de las tareas que requieren mucho tiempo\n",
    "    year = row.findAll('td')[0].find('span').text.strip() \n",
    "    revenue = row.findAll('td')[1].text.strip().replace('$', '').replace('B', '').strip() #limpia las filas para obtener los valores limpios eliminando $ y B\n",
    "    database.append([year, revenue])\n",
    "\n",
    "database"
   ]
  },
  {
   "cell_type": "code",
   "execution_count": 46,
   "id": "29a0cdec",
   "metadata": {},
   "outputs": [],
   "source": [
    "df1 = pd.DataFrame(database, columns=[\"Year\", \"Revenue\"])\n",
    "df1 = df1.sort_values(\"Year\", ascending=False)"
   ]
  },
  {
   "cell_type": "code",
   "execution_count": 47,
   "id": "ffda4373",
   "metadata": {
    "lines_to_next_cell": 2
   },
   "outputs": [
    {
     "name": "stdout",
     "output_type": "stream",
     "text": [
      "    Year Revenue\n",
      "0   2024   97.15\n",
      "1   2023   96.77\n",
      "2   2022   81.46\n",
      "3   2021   53.82\n",
      "4   2020   31.53\n",
      "5   2019   24.57\n",
      "6   2018   21.46\n",
      "7   2017   11.75\n",
      "8   2016    7.00\n",
      "9   2015    4.04\n",
      "10  2014    3.19\n",
      "11  2013    2.01\n",
      "12  2012    0.41\n",
      "13  2011    0.20\n",
      "14  2010    0.11\n",
      "15  2009    0.11\n"
     ]
    }
   ],
   "source": [
    "print(df1)"
   ]
  },
  {
   "cell_type": "markdown",
   "id": "e9cf6cf8",
   "metadata": {},
   "source": [
    "Paso 5: Almacena los datos en sqlite"
   ]
  },
  {
   "cell_type": "code",
   "execution_count": 52,
   "id": "9fe81f26",
   "metadata": {},
   "outputs": [],
   "source": [
    "import sqlite3\n",
    "\n",
    "conn = sqlite3.connect(\"revenues.db\")\n",
    "cur = conn.cursor()   # create a Cursor object \n"
   ]
  },
  {
   "cell_type": "code",
   "execution_count": 53,
   "id": "ea8e7aea",
   "metadata": {},
   "outputs": [
    {
     "data": {
      "text/plain": [
       "<sqlite3.Cursor at 0x7dfbbdc7a140>"
      ]
     },
     "execution_count": 53,
     "metadata": {},
     "output_type": "execute_result"
    }
   ],
   "source": [
    "#CREATE TABLE IF NOT EXISTS revenues;     Crear tabla si no existe, esto permite ejecutar sin problemas varias veces\n",
    "# Year INTEGER PRIMARY KEY,;   La clave primaria en Year me garantiza que cada fila en la tabla sea única y no hayan mas registros de ese año.\n",
    "\n",
    "cur.execute('''\n",
    "    CREATE TABLE IF NOT EXISTS revenues (\n",
    "        Year INTEGER PRIMARY KEY,\n",
    "        Revenue REAL\n",
    "    )\n",
    "''')\n"
   ]
  },
  {
   "cell_type": "code",
   "execution_count": 54,
   "id": "ee24c19c",
   "metadata": {},
   "outputs": [
    {
     "ename": "OperationalError",
     "evalue": "database is locked",
     "output_type": "error",
     "traceback": [
      "\u001b[0;31m---------------------------------------------------------------------------\u001b[0m",
      "\u001b[0;31mOperationalError\u001b[0m                          Traceback (most recent call last)",
      "Cell \u001b[0;32mIn[54], line 4\u001b[0m\n\u001b[1;32m      1\u001b[0m \u001b[38;5;66;03m#Insertar datos \u001b[39;00m\n\u001b[1;32m      3\u001b[0m \u001b[38;5;28;01mfor\u001b[39;00m index, row \u001b[38;5;129;01min\u001b[39;00m df1\u001b[38;5;241m.\u001b[39miterrows():\n\u001b[0;32m----> 4\u001b[0m     \u001b[43mcur\u001b[49m\u001b[38;5;241;43m.\u001b[39;49m\u001b[43mexecute\u001b[49m\u001b[43m(\u001b[49m\u001b[38;5;124;43m'''\u001b[39;49m\n\u001b[1;32m      5\u001b[0m \u001b[38;5;124;43m        INSERT INTO revenues (Year, Revenue)\u001b[39;49m\n\u001b[1;32m      6\u001b[0m \u001b[38;5;124;43m        VALUES (?, ?)\u001b[39;49m\n\u001b[1;32m      7\u001b[0m \u001b[38;5;124;43m        ON CONFLICT(Year) DO UPDATE SET Revenue=excluded.Revenue\u001b[39;49m\n\u001b[1;32m      8\u001b[0m \u001b[38;5;124;43m    \u001b[39;49m\u001b[38;5;124;43m'''\u001b[39;49m\u001b[43m,\u001b[49m\u001b[43m \u001b[49m\u001b[43m(\u001b[49m\u001b[38;5;28;43mint\u001b[39;49m\u001b[43m(\u001b[49m\u001b[43mrow\u001b[49m\u001b[43m[\u001b[49m\u001b[38;5;124;43m\"\u001b[39;49m\u001b[38;5;124;43mYear\u001b[39;49m\u001b[38;5;124;43m\"\u001b[39;49m\u001b[43m]\u001b[49m\u001b[43m)\u001b[49m\u001b[43m,\u001b[49m\u001b[43m \u001b[49m\u001b[38;5;28;43mfloat\u001b[39;49m\u001b[43m(\u001b[49m\u001b[43mrow\u001b[49m\u001b[43m[\u001b[49m\u001b[38;5;124;43m\"\u001b[39;49m\u001b[38;5;124;43mRevenue\u001b[39;49m\u001b[38;5;124;43m\"\u001b[39;49m\u001b[43m]\u001b[49m\u001b[43m)\u001b[49m\u001b[43m)\u001b[49m\u001b[43m)\u001b[49m\n",
      "\u001b[0;31mOperationalError\u001b[0m: database is locked"
     ]
    }
   ],
   "source": [
    "#Insertar datos \n",
    "\n",
    "for index, row in df1.iterrows():\n",
    "    cur.execute('''\n",
    "        INSERT INTO revenues (Year, Revenue)\n",
    "        VALUES (?, ?)\n",
    "        ON CONFLICT(Year) DO UPDATE SET Revenue=excluded.Revenue\n",
    "    ''', (int(row[\"Year\"]), float(row[\"Revenue\"])))"
   ]
  },
  {
   "cell_type": "code",
   "execution_count": 55,
   "id": "f9b37a1c",
   "metadata": {},
   "outputs": [
    {
     "name": "stdout",
     "output_type": "stream",
     "text": [
      "(2009, 0.11)\n",
      "(2010, 0.11)\n",
      "(2011, 0.2)\n",
      "(2012, 0.41)\n",
      "(2013, 2.01)\n",
      "(2014, 3.19)\n",
      "(2015, 4.04)\n",
      "(2016, 7.0)\n",
      "(2017, 11.75)\n",
      "(2018, 21.46)\n",
      "(2019, 24.57)\n",
      "(2020, 31.53)\n",
      "(2021, 53.82)\n",
      "(2022, 81.46)\n",
      "(2023, 96.77)\n",
      "(2024, 97.15)\n"
     ]
    }
   ],
   "source": [
    "# Confirmar (commit) los cambios\n",
    "conn.commit()\n",
    "\n",
    "# Comprobar el contenido de la tabla\n",
    "cur.execute(\"SELECT * FROM revenues\")\n",
    "rows = cur.fetchall()\n",
    "for row in rows:\n",
    "    print(row)\n",
    "\n",
    "# Cerrar la conexión\n",
    "conn.close()"
   ]
  },
  {
   "cell_type": "code",
   "execution_count": 27,
   "id": "21346d83",
   "metadata": {},
   "outputs": [],
   "source": [
    "conn.close()"
   ]
  },
  {
   "cell_type": "code",
   "execution_count": 63,
   "id": "30e13659",
   "metadata": {},
   "outputs": [
    {
     "data": {
      "image/png": "[encoded data removed]",
      "text/plain": [
       "<Figure size 640x480 with 1 Axes>"
      ]
     },
     "metadata": {},
     "output_type": "display_data"
    }
   ],
   "source": [
    "#Invierto el df para que la vizualisacion sea más logica y que me enseñe del 2009 a 2024 y no el contrario : \n",
    "df_asc = df1[::-1].reset_index(drop=True)\n",
    "\n",
    "plt.plot(df_asc['Year'], df_asc['Revenue'], color='green')\n",
    "plt.yscale('log')  # Escala logarítmica en Y\n",
    "plt.title('Revenues Over the Years')\n",
    "plt.xlabel('Year')\n",
    "plt.ylabel('Revenue (log scale)')\n",
    "plt.grid(True, which='both', linestyle='--', linewidth=0.5)  # Mejora la visibilidad del grid\n",
    "plt.tick_params(axis='x', rotation=45)\n",
    "plt.show()"
   ]
  },
  {
   "cell_type": "code",
   "execution_count": 68,
   "id": "f4355b01",
   "metadata": {},
   "outputs": [
    {
     "data": {
      "image/png": "[encoded data removed]",
      "text/plain": [
       "<Figure size 640x480 with 1 Axes>"
      ]
     },
     "metadata": {},
     "output_type": "display_data"
    }
   ],
   "source": [
    "#Datos numéricos\n",
    "df_asc['Revenue'] = pd.to_numeric(df_asc['Revenue'], errors='coerce')\n",
    "df_asc['Year'] = pd.to_numeric(df_asc['Year'], errors='coerce')  \n",
    "\n",
    "#Normalizar\n",
    "df_asc['Revenue_normalized'] = (df_asc['Revenue'] - df_asc['Revenue'].min()) / (df_asc['Revenue'].max() - df_asc['Revenue'].min())\n",
    "\n",
    "# Graficar\n",
    "plt.plot(df_asc['Year'], df_asc['Revenue_normalized'], color='green')\n",
    "plt.xlabel('Year')\n",
    "plt.ylabel('Revenue (Normalized)')\n",
    "plt.title('Normalized Revenues Over the Years')\n",
    "plt.grid(True)\n",
    "plt.tick_params(axis='x', rotation=45)\n",
    "plt.show()\n",
    "\n"
   ]
  },
  {
   "cell_type": "code",
   "execution_count": 19,
   "id": "eba6542a",
   "metadata": {},
   "outputs": [
    {
     "name": "stderr",
     "output_type": "stream",
     "text": [
      "100%|██████████| 16/16 [00:00<00:00, 34361.94it/s]"
     ]
    },
    {
     "name": "stdout",
     "output_type": "stream",
     "text": [
      "    Year      Earnings\n",
      "0   2024  8.730000e+09\n",
      "1   2023  1.012000e+10\n",
      "2   2022  1.391000e+10\n",
      "3   2021  6.710000e+09\n",
      "4   2020  1.900000e+09\n",
      "5   2019  2.000000e+10\n",
      "6   2018 -3.500000e+08\n",
      "7   2017 -1.740000e+09\n",
      "8   2016 -5.500000e+08\n",
      "9   2015 -7.600000e+08\n",
      "10  2014 -1.900000e+08\n",
      "11  2013 -3.848000e+10\n",
      "12  2012 -4.000000e+08\n",
      "13  2011 -2.600000e+08\n",
      "14  2010 -1.600000e+08\n",
      "15  2009 -5.319000e+10\n",
      "(2009, -53190000000.0)\n",
      "(2010, -160000000.0)\n",
      "(2011, -260000000.0)\n",
      "(2012, -400000000.0)\n",
      "(2013, -38480000000.0)\n",
      "(2014, -190000000.0)\n",
      "(2015, -760000000.0)\n",
      "(2016, -550000000.0)\n",
      "(2017, -1740000000.0)\n",
      "(2018, -350000000.0)\n",
      "(2019, 20000000000.0)\n",
      "(2020, 1900000000.0)\n",
      "(2021, 6710000000.0)\n",
      "(2022, 13910000000.0)\n",
      "(2023, 10120000000.0)\n",
      "(2024, 8730000000.0)\n"
     ]
    },
    {
     "name": "stderr",
     "output_type": "stream",
     "text": [
      "\n"
     ]
    }
   ],
   "source": [
    "import os\n",
    "from bs4 import BeautifulSoup\n",
    "import requests\n",
    "import time\n",
    "import sqlite3\n",
    "import matplotlib.pyplot as plt\n",
    "import seaborn as sns\n",
    "from tqdm import tqdm\n",
    "import pandas as pd\n",
    "\n",
    "# Paso 2: Descargar HTML\n",
    "# Seleccionar el recurso a descargar\n",
    "resource_url =  \"https://companies-market-cap-copy.vercel.app/earnings.html\"\n",
    "\n",
    "\n",
    "# Petición para descargar el fichero de Internet\n",
    "response = requests.get(resource_url)\n",
    "#print( response.status_code)\n",
    "\n",
    "html_content = response.text  # convertir a texto\n",
    "\n",
    "# Transformamos el HTML plano en un HTML real (estructurado y anidado, con forma de árbol)\n",
    "\n",
    "soup = BeautifulSoup (html_content, features=\"html.parser\") # PARSER: analizar y convertir datos estructurados (como texto)\n",
    "soup\n",
    "#print(soup)\n",
    "\n",
    "#Buscar todas las tablas.\n",
    "table = soup.find(\"table\")  \n",
    "table\n",
    "\n",
    "\n",
    "#Almacena los datos en un DataFrame.\n",
    "database2 = []                                           \n",
    "for row in tqdm(table.findAll('tr')[1:]):\n",
    "    year = row.findAll('td')[0].find('span').text.strip() \n",
    "    earnings_i = row.findAll('td')[1].text.strip()\n",
    "    earnings_1=earnings_i.replace('$', '').replace(' ', '').replace('Billion', '').replace('Million', '').replace('B', '').replace('M', '')\n",
    "    if 'B' or 'Billion' in earnings_i:\n",
    "        earnings= float(earnings_1)*1e9\n",
    "    elif 'M' or 'Million' in earnings_i:\n",
    "        earnings= float(earnings_1)*1e6\n",
    "    else: \n",
    "        earnings=float(earnings_1)\n",
    "      \n",
    "    database2.append([year, earnings])\n",
    "\n",
    "#print(database)\n",
    "\n",
    "df = pd.DataFrame(database2, columns=[\"Year\", \"Earnings\"])\n",
    "df = df.sort_values(\"Year\", ascending=False)\n",
    "\n",
    "print(df)\n",
    "\n",
    "\n",
    "#Paso 5: Almacena los datos en sqlite\n",
    "import sqlite3\n",
    "\n",
    "conn2 = sqlite3.connect(\"earnings.db\")\n",
    "cur2 = conn2.cursor()   # create a Cursor object\n",
    "\n",
    "#CREATE TABLE IF NOT EXISTS earnings;     Crear tabla si no existe, esto permite ejecutar sin problemas varias veces\n",
    "# Year INTEGER PRIMARY KEY,;   La clave primaria en Year me garantiza que cada fila en la tabla sea única y no hayan mas registros de ese año.\n",
    "\n",
    "cur2.execute('''\n",
    "    CREATE TABLE IF NOT EXISTS earnings (\n",
    "        Year INTEGER PRIMARY KEY,\n",
    "        Earnings REAL\n",
    "    )\n",
    "''')\n",
    "\n",
    "#Insertar datos \n",
    "\n",
    "for index, row in df.iterrows():\n",
    "    cur2.execute('''\n",
    "        INSERT INTO earnings (Year, Earnings)\n",
    "        VALUES (?, ?)\n",
    "        ON CONFLICT(Year) DO UPDATE SET Earnings=excluded.Earnings\n",
    "    ''', (int(row[\"Year\"]), float(row[\"Earnings\"])))\n",
    "\n",
    "\n",
    "# Confirmar (commit) los cambios\n",
    "conn2.commit()\n",
    "\n",
    "# Comprobar el contenido de la tabla\n",
    "cur2.execute(\"SELECT * FROM earnings\")\n",
    "rows = cur2.fetchall()\n",
    "for row in rows:\n",
    "    print(row)\n",
    "\n",
    "# Cerrar la conexión\n",
    "conn2.close()"
   ]
  },
  {
   "cell_type": "code",
   "execution_count": 20,
   "id": "3c4b88aa",
   "metadata": {},
   "outputs": [
    {
     "data": {
      "image/png": "[encoded data removed]",
      "text/plain": [
       "<Figure size 640x480 with 1 Axes>"
      ]
     },
     "metadata": {},
     "output_type": "display_data"
    }
   ],
   "source": [
    "#Invierto el df para que la vizualisacion sea más logica y que me enseñe del 2009 a 2024 y no el contrario : \n",
    "df_asc = df[::-1].reset_index(drop=True)\n",
    "\n",
    "# Barras para Earnings\n",
    "sns.barplot(x='Year', y='Earnings', data=df_asc)\n",
    "plt.title('Annual Earnings and Variaction per Year (2009 - 2024)')\n",
    "plt.xlabel('Year')\n",
    "plt.ylabel('Earnings')\n",
    "plt.tick_params(axis='x', rotation=45)\n",
    "\n",
    "plt.tight_layout()\n",
    "plt.show()"
   ]
  }
 ],
 "metadata": {
  "jupytext": {
   "cell_metadata_filter": "-all",
   "main_language": "python",
   "notebook_metadata_filter": "-all"
  },
  "kernelspec": {
   "display_name": "Python 3",
   "language": "python",
   "name": "python3"
  },
  "language_info": {
   "codemirror_mode": {
    "name": "ipython",
    "version": 3
   },
   "file_extension": ".py",
   "mimetype": "text/x-python",
   "name": "python",
   "nbconvert_exporter": "python",
   "pygments_lexer": "ipython3",
   "version": "3.11.4"
  }
 },
 "nbformat": 4,
 "nbformat_minor": 5
}
